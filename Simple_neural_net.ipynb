{
 "cells": [
  {
   "cell_type": "code",
   "execution_count": 62,
   "metadata": {},
   "outputs": [
    {
     "name": "stdout",
     "output_type": "stream",
     "text": [
      "Mean error:  0.48177499253468026\n",
      "Mean error:  0.02866610487299366\n",
      "Mean error:  0.01994288440770393\n",
      "Mean error:  0.016163649188498126\n",
      "Mean error:  0.013935949385882964\n",
      "Mean error:  0.01242654210739497\n",
      "Mean error:  0.011318010677585536\n",
      "Mean error:  0.010459794187911698\n",
      "Mean error:  0.00977013345536183\n",
      "Mean error:  0.009200318638894532\n",
      "Result:  [0.99242854 0.00740676 0.0101218  0.99022107]\n",
      "Goal:  [1 0 0 1]\n"
     ]
    }
   ],
   "source": [
    "#The simplest neural net\n",
    "import numpy as np\n",
    "\n",
    "#Activation function (sygmoid) and its derivative\n",
    "def sigmoid (x, der = False):\n",
    "    if der == True:\n",
    "        return x*(1-x)\n",
    "    return 1/(1+np.exp(-x))\n",
    "\n",
    "#Input layer 4 samples of 4 nodes\n",
    "input_l=np.array ([[1,0,0,1],\n",
    "                 [0,1,0,1],\n",
    "                 [1,0,1,0],\n",
    "                 [1,0,0,0]])\n",
    "\n",
    "#Output layer (goal) 4 sample of 1 node\n",
    "goal = np.array ([1,0,0,1])\n",
    "\n",
    "#I use seed for convenience in debigging (the same random sample)\n",
    "np.random.seed(1)\n",
    "err = np.zeros(4)\n",
    "\n",
    "weights = 2*np.random.random(4) - 1\n",
    "\n",
    "for j in range(10000):\n",
    "#Forward propagation\n",
    "    output_l = sigmoid(np.dot(input_l, weights))\n",
    "    \n",
    "#Calculation the error\n",
    "    err = goal - output_l\n",
    "    if (j % 1000) == 0: \n",
    "        print (\"Mean error: \", str(np.mean(np.abs(err))))\n",
    "        \n",
    "#Back propagation\n",
    "    delta = err*sigmoid(output_l, der=True)\n",
    "    weights += np.dot(input_l.T, delta)\n",
    "\n",
    "print (\"Result: \", output_l)\n",
    "print (\"Goal: \", goal)"
   ]
  },
  {
   "cell_type": "code",
   "execution_count": null,
   "metadata": {},
   "outputs": [],
   "source": []
  }
 ],
 "metadata": {
  "kernelspec": {
   "display_name": "Python 3",
   "language": "python",
   "name": "python3"
  },
  "language_info": {
   "codemirror_mode": {
    "name": "ipython",
    "version": 3
   },
   "file_extension": ".py",
   "mimetype": "text/x-python",
   "name": "python",
   "nbconvert_exporter": "python",
   "pygments_lexer": "ipython3",
   "version": "3.7.1"
  }
 },
 "nbformat": 4,
 "nbformat_minor": 2
}
